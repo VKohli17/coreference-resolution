{
  "nbformat": 4,
  "nbformat_minor": 0,
  "metadata": {
    "colab": {
      "name": "Hin_BERT_coref.ipynb",
      "provenance": [],
      "collapsed_sections": []
    },
    "kernelspec": {
      "name": "python3",
      "display_name": "Python 3"
    },
    "language_info": {
      "name": "python"
    },
    "widgets": {
      "application/vnd.jupyter.widget-state+json": {
        "a9b212890fdd413bba22f7e10ce441ad": {
          "model_module": "@jupyter-widgets/controls",
          "model_name": "HBoxModel",
          "model_module_version": "1.5.0",
          "state": {
            "_dom_classes": [],
            "_model_module": "@jupyter-widgets/controls",
            "_model_module_version": "1.5.0",
            "_model_name": "HBoxModel",
            "_view_count": null,
            "_view_module": "@jupyter-widgets/controls",
            "_view_module_version": "1.5.0",
            "_view_name": "HBoxView",
            "box_style": "",
            "children": [
              "IPY_MODEL_9d724b9b8d1741e59c1e0c829e469986",
              "IPY_MODEL_7b011187b1ad459693cf27841ea30c9b",
              "IPY_MODEL_3016f87b9ad74f3b87400efd8e074c05"
            ],
            "layout": "IPY_MODEL_f30460b398f7481c90afc4bc8c70f9e9"
          }
        },
        "9d724b9b8d1741e59c1e0c829e469986": {
          "model_module": "@jupyter-widgets/controls",
          "model_name": "HTMLModel",
          "model_module_version": "1.5.0",
          "state": {
            "_dom_classes": [],
            "_model_module": "@jupyter-widgets/controls",
            "_model_module_version": "1.5.0",
            "_model_name": "HTMLModel",
            "_view_count": null,
            "_view_module": "@jupyter-widgets/controls",
            "_view_module_version": "1.5.0",
            "_view_name": "HTMLView",
            "description": "",
            "description_tooltip": null,
            "layout": "IPY_MODEL_b2f8a546bf7a449b8ff751bd5c08f52d",
            "placeholder": "​",
            "style": "IPY_MODEL_e1a5c8366d224c489b4a8363e0e7f7af",
            "value": "Downloading: 100%"
          }
        },
        "7b011187b1ad459693cf27841ea30c9b": {
          "model_module": "@jupyter-widgets/controls",
          "model_name": "FloatProgressModel",
          "model_module_version": "1.5.0",
          "state": {
            "_dom_classes": [],
            "_model_module": "@jupyter-widgets/controls",
            "_model_module_version": "1.5.0",
            "_model_name": "FloatProgressModel",
            "_view_count": null,
            "_view_module": "@jupyter-widgets/controls",
            "_view_module_version": "1.5.0",
            "_view_name": "ProgressView",
            "bar_style": "success",
            "description": "",
            "description_tooltip": null,
            "layout": "IPY_MODEL_ae7c168f8a64430a85c54248aebb5c4b",
            "max": 181,
            "min": 0,
            "orientation": "horizontal",
            "style": "IPY_MODEL_fbefbc436ca34519b0cd26f23caf40c2",
            "value": 181
          }
        },
        "3016f87b9ad74f3b87400efd8e074c05": {
          "model_module": "@jupyter-widgets/controls",
          "model_name": "HTMLModel",
          "model_module_version": "1.5.0",
          "state": {
            "_dom_classes": [],
            "_model_module": "@jupyter-widgets/controls",
            "_model_module_version": "1.5.0",
            "_model_name": "HTMLModel",
            "_view_count": null,
            "_view_module": "@jupyter-widgets/controls",
            "_view_module_version": "1.5.0",
            "_view_name": "HTMLView",
            "description": "",
            "description_tooltip": null,
            "layout": "IPY_MODEL_69a34d3bec4a4b11a1d399db3d6d0eb1",
            "placeholder": "​",
            "style": "IPY_MODEL_bdb11b2500184060b83f5dab5525ee4b",
            "value": " 181/181 [00:00&lt;00:00, 4.40kB/s]"
          }
        },
        "f30460b398f7481c90afc4bc8c70f9e9": {
          "model_module": "@jupyter-widgets/base",
          "model_name": "LayoutModel",
          "model_module_version": "1.2.0",
          "state": {
            "_model_module": "@jupyter-widgets/base",
            "_model_module_version": "1.2.0",
            "_model_name": "LayoutModel",
            "_view_count": null,
            "_view_module": "@jupyter-widgets/base",
            "_view_module_version": "1.2.0",
            "_view_name": "LayoutView",
            "align_content": null,
            "align_items": null,
            "align_self": null,
            "border": null,
            "bottom": null,
            "display": null,
            "flex": null,
            "flex_flow": null,
            "grid_area": null,
            "grid_auto_columns": null,
            "grid_auto_flow": null,
            "grid_auto_rows": null,
            "grid_column": null,
            "grid_gap": null,
            "grid_row": null,
            "grid_template_areas": null,
            "grid_template_columns": null,
            "grid_template_rows": null,
            "height": null,
            "justify_content": null,
            "justify_items": null,
            "left": null,
            "margin": null,
            "max_height": null,
            "max_width": null,
            "min_height": null,
            "min_width": null,
            "object_fit": null,
            "object_position": null,
            "order": null,
            "overflow": null,
            "overflow_x": null,
            "overflow_y": null,
            "padding": null,
            "right": null,
            "top": null,
            "visibility": null,
            "width": null
          }
        },
        "b2f8a546bf7a449b8ff751bd5c08f52d": {
          "model_module": "@jupyter-widgets/base",
          "model_name": "LayoutModel",
          "model_module_version": "1.2.0",
          "state": {
            "_model_module": "@jupyter-widgets/base",
            "_model_module_version": "1.2.0",
            "_model_name": "LayoutModel",
            "_view_count": null,
            "_view_module": "@jupyter-widgets/base",
            "_view_module_version": "1.2.0",
            "_view_name": "LayoutView",
            "align_content": null,
            "align_items": null,
            "align_self": null,
            "border": null,
            "bottom": null,
            "display": null,
            "flex": null,
            "flex_flow": null,
            "grid_area": null,
            "grid_auto_columns": null,
            "grid_auto_flow": null,
            "grid_auto_rows": null,
            "grid_column": null,
            "grid_gap": null,
            "grid_row": null,
            "grid_template_areas": null,
            "grid_template_columns": null,
            "grid_template_rows": null,
            "height": null,
            "justify_content": null,
            "justify_items": null,
            "left": null,
            "margin": null,
            "max_height": null,
            "max_width": null,
            "min_height": null,
            "min_width": null,
            "object_fit": null,
            "object_position": null,
            "order": null,
            "overflow": null,
            "overflow_x": null,
            "overflow_y": null,
            "padding": null,
            "right": null,
            "top": null,
            "visibility": null,
            "width": null
          }
        },
        "e1a5c8366d224c489b4a8363e0e7f7af": {
          "model_module": "@jupyter-widgets/controls",
          "model_name": "DescriptionStyleModel",
          "model_module_version": "1.5.0",
          "state": {
            "_model_module": "@jupyter-widgets/controls",
            "_model_module_version": "1.5.0",
            "_model_name": "DescriptionStyleModel",
            "_view_count": null,
            "_view_module": "@jupyter-widgets/base",
            "_view_module_version": "1.2.0",
            "_view_name": "StyleView",
            "description_width": ""
          }
        },
        "ae7c168f8a64430a85c54248aebb5c4b": {
          "model_module": "@jupyter-widgets/base",
          "model_name": "LayoutModel",
          "model_module_version": "1.2.0",
          "state": {
            "_model_module": "@jupyter-widgets/base",
            "_model_module_version": "1.2.0",
            "_model_name": "LayoutModel",
            "_view_count": null,
            "_view_module": "@jupyter-widgets/base",
            "_view_module_version": "1.2.0",
            "_view_name": "LayoutView",
            "align_content": null,
            "align_items": null,
            "align_self": null,
            "border": null,
            "bottom": null,
            "display": null,
            "flex": null,
            "flex_flow": null,
            "grid_area": null,
            "grid_auto_columns": null,
            "grid_auto_flow": null,
            "grid_auto_rows": null,
            "grid_column": null,
            "grid_gap": null,
            "grid_row": null,
            "grid_template_areas": null,
            "grid_template_columns": null,
            "grid_template_rows": null,
            "height": null,
            "justify_content": null,
            "justify_items": null,
            "left": null,
            "margin": null,
            "max_height": null,
            "max_width": null,
            "min_height": null,
            "min_width": null,
            "object_fit": null,
            "object_position": null,
            "order": null,
            "overflow": null,
            "overflow_x": null,
            "overflow_y": null,
            "padding": null,
            "right": null,
            "top": null,
            "visibility": null,
            "width": null
          }
        },
        "fbefbc436ca34519b0cd26f23caf40c2": {
          "model_module": "@jupyter-widgets/controls",
          "model_name": "ProgressStyleModel",
          "model_module_version": "1.5.0",
          "state": {
            "_model_module": "@jupyter-widgets/controls",
            "_model_module_version": "1.5.0",
            "_model_name": "ProgressStyleModel",
            "_view_count": null,
            "_view_module": "@jupyter-widgets/base",
            "_view_module_version": "1.2.0",
            "_view_name": "StyleView",
            "bar_color": null,
            "description_width": ""
          }
        },
        "69a34d3bec4a4b11a1d399db3d6d0eb1": {
          "model_module": "@jupyter-widgets/base",
          "model_name": "LayoutModel",
          "model_module_version": "1.2.0",
          "state": {
            "_model_module": "@jupyter-widgets/base",
            "_model_module_version": "1.2.0",
            "_model_name": "LayoutModel",
            "_view_count": null,
            "_view_module": "@jupyter-widgets/base",
            "_view_module_version": "1.2.0",
            "_view_name": "LayoutView",
            "align_content": null,
            "align_items": null,
            "align_self": null,
            "border": null,
            "bottom": null,
            "display": null,
            "flex": null,
            "flex_flow": null,
            "grid_area": null,
            "grid_auto_columns": null,
            "grid_auto_flow": null,
            "grid_auto_rows": null,
            "grid_column": null,
            "grid_gap": null,
            "grid_row": null,
            "grid_template_areas": null,
            "grid_template_columns": null,
            "grid_template_rows": null,
            "height": null,
            "justify_content": null,
            "justify_items": null,
            "left": null,
            "margin": null,
            "max_height": null,
            "max_width": null,
            "min_height": null,
            "min_width": null,
            "object_fit": null,
            "object_position": null,
            "order": null,
            "overflow": null,
            "overflow_x": null,
            "overflow_y": null,
            "padding": null,
            "right": null,
            "top": null,
            "visibility": null,
            "width": null
          }
        },
        "bdb11b2500184060b83f5dab5525ee4b": {
          "model_module": "@jupyter-widgets/controls",
          "model_name": "DescriptionStyleModel",
          "model_module_version": "1.5.0",
          "state": {
            "_model_module": "@jupyter-widgets/controls",
            "_model_module_version": "1.5.0",
            "_model_name": "DescriptionStyleModel",
            "_view_count": null,
            "_view_module": "@jupyter-widgets/base",
            "_view_module_version": "1.2.0",
            "_view_name": "StyleView",
            "description_width": ""
          }
        },
        "aca449d72b274cd0af8b1ec981d8d9db": {
          "model_module": "@jupyter-widgets/controls",
          "model_name": "HBoxModel",
          "model_module_version": "1.5.0",
          "state": {
            "_dom_classes": [],
            "_model_module": "@jupyter-widgets/controls",
            "_model_module_version": "1.5.0",
            "_model_name": "HBoxModel",
            "_view_count": null,
            "_view_module": "@jupyter-widgets/controls",
            "_view_module_version": "1.5.0",
            "_view_name": "HBoxView",
            "box_style": "",
            "children": [
              "IPY_MODEL_9d9f012915e8489c9006bdc71e525a13",
              "IPY_MODEL_809a3346e4cc49b3a0cedd457efa3cd3",
              "IPY_MODEL_c1e3356df8a041cbadcc34bda534272a"
            ],
            "layout": "IPY_MODEL_a2a83476d711421eb6cbb8c00f8f4c41"
          }
        },
        "9d9f012915e8489c9006bdc71e525a13": {
          "model_module": "@jupyter-widgets/controls",
          "model_name": "HTMLModel",
          "model_module_version": "1.5.0",
          "state": {
            "_dom_classes": [],
            "_model_module": "@jupyter-widgets/controls",
            "_model_module_version": "1.5.0",
            "_model_name": "HTMLModel",
            "_view_count": null,
            "_view_module": "@jupyter-widgets/controls",
            "_view_module_version": "1.5.0",
            "_view_name": "HTMLView",
            "description": "",
            "description_tooltip": null,
            "layout": "IPY_MODEL_68335e83728f45f98bfd2be0a3cca913",
            "placeholder": "​",
            "style": "IPY_MODEL_06edb9a9e880400eb76f13ea3d782313",
            "value": "Downloading: 100%"
          }
        },
        "809a3346e4cc49b3a0cedd457efa3cd3": {
          "model_module": "@jupyter-widgets/controls",
          "model_name": "FloatProgressModel",
          "model_module_version": "1.5.0",
          "state": {
            "_dom_classes": [],
            "_model_module": "@jupyter-widgets/controls",
            "_model_module_version": "1.5.0",
            "_model_name": "FloatProgressModel",
            "_view_count": null,
            "_view_module": "@jupyter-widgets/controls",
            "_view_module_version": "1.5.0",
            "_view_name": "ProgressView",
            "bar_style": "success",
            "description": "",
            "description_tooltip": null,
            "layout": "IPY_MODEL_59ec06dfcb6e4a249fafc6a6ce33d132",
            "max": 411,
            "min": 0,
            "orientation": "horizontal",
            "style": "IPY_MODEL_e73a847dd00d4cdcad0d504598472e6b",
            "value": 411
          }
        },
        "c1e3356df8a041cbadcc34bda534272a": {
          "model_module": "@jupyter-widgets/controls",
          "model_name": "HTMLModel",
          "model_module_version": "1.5.0",
          "state": {
            "_dom_classes": [],
            "_model_module": "@jupyter-widgets/controls",
            "_model_module_version": "1.5.0",
            "_model_name": "HTMLModel",
            "_view_count": null,
            "_view_module": "@jupyter-widgets/controls",
            "_view_module_version": "1.5.0",
            "_view_name": "HTMLView",
            "description": "",
            "description_tooltip": null,
            "layout": "IPY_MODEL_0a93ac53ebcc41549c4f2f05eab72fe3",
            "placeholder": "​",
            "style": "IPY_MODEL_e0c38bee286d4a95b82661e78e191baf",
            "value": " 411/411 [00:00&lt;00:00, 9.99kB/s]"
          }
        },
        "a2a83476d711421eb6cbb8c00f8f4c41": {
          "model_module": "@jupyter-widgets/base",
          "model_name": "LayoutModel",
          "model_module_version": "1.2.0",
          "state": {
            "_model_module": "@jupyter-widgets/base",
            "_model_module_version": "1.2.0",
            "_model_name": "LayoutModel",
            "_view_count": null,
            "_view_module": "@jupyter-widgets/base",
            "_view_module_version": "1.2.0",
            "_view_name": "LayoutView",
            "align_content": null,
            "align_items": null,
            "align_self": null,
            "border": null,
            "bottom": null,
            "display": null,
            "flex": null,
            "flex_flow": null,
            "grid_area": null,
            "grid_auto_columns": null,
            "grid_auto_flow": null,
            "grid_auto_rows": null,
            "grid_column": null,
            "grid_gap": null,
            "grid_row": null,
            "grid_template_areas": null,
            "grid_template_columns": null,
            "grid_template_rows": null,
            "height": null,
            "justify_content": null,
            "justify_items": null,
            "left": null,
            "margin": null,
            "max_height": null,
            "max_width": null,
            "min_height": null,
            "min_width": null,
            "object_fit": null,
            "object_position": null,
            "order": null,
            "overflow": null,
            "overflow_x": null,
            "overflow_y": null,
            "padding": null,
            "right": null,
            "top": null,
            "visibility": null,
            "width": null
          }
        },
        "68335e83728f45f98bfd2be0a3cca913": {
          "model_module": "@jupyter-widgets/base",
          "model_name": "LayoutModel",
          "model_module_version": "1.2.0",
          "state": {
            "_model_module": "@jupyter-widgets/base",
            "_model_module_version": "1.2.0",
            "_model_name": "LayoutModel",
            "_view_count": null,
            "_view_module": "@jupyter-widgets/base",
            "_view_module_version": "1.2.0",
            "_view_name": "LayoutView",
            "align_content": null,
            "align_items": null,
            "align_self": null,
            "border": null,
            "bottom": null,
            "display": null,
            "flex": null,
            "flex_flow": null,
            "grid_area": null,
            "grid_auto_columns": null,
            "grid_auto_flow": null,
            "grid_auto_rows": null,
            "grid_column": null,
            "grid_gap": null,
            "grid_row": null,
            "grid_template_areas": null,
            "grid_template_columns": null,
            "grid_template_rows": null,
            "height": null,
            "justify_content": null,
            "justify_items": null,
            "left": null,
            "margin": null,
            "max_height": null,
            "max_width": null,
            "min_height": null,
            "min_width": null,
            "object_fit": null,
            "object_position": null,
            "order": null,
            "overflow": null,
            "overflow_x": null,
            "overflow_y": null,
            "padding": null,
            "right": null,
            "top": null,
            "visibility": null,
            "width": null
          }
        },
        "06edb9a9e880400eb76f13ea3d782313": {
          "model_module": "@jupyter-widgets/controls",
          "model_name": "DescriptionStyleModel",
          "model_module_version": "1.5.0",
          "state": {
            "_model_module": "@jupyter-widgets/controls",
            "_model_module_version": "1.5.0",
            "_model_name": "DescriptionStyleModel",
            "_view_count": null,
            "_view_module": "@jupyter-widgets/base",
            "_view_module_version": "1.2.0",
            "_view_name": "StyleView",
            "description_width": ""
          }
        },
        "59ec06dfcb6e4a249fafc6a6ce33d132": {
          "model_module": "@jupyter-widgets/base",
          "model_name": "LayoutModel",
          "model_module_version": "1.2.0",
          "state": {
            "_model_module": "@jupyter-widgets/base",
            "_model_module_version": "1.2.0",
            "_model_name": "LayoutModel",
            "_view_count": null,
            "_view_module": "@jupyter-widgets/base",
            "_view_module_version": "1.2.0",
            "_view_name": "LayoutView",
            "align_content": null,
            "align_items": null,
            "align_self": null,
            "border": null,
            "bottom": null,
            "display": null,
            "flex": null,
            "flex_flow": null,
            "grid_area": null,
            "grid_auto_columns": null,
            "grid_auto_flow": null,
            "grid_auto_rows": null,
            "grid_column": null,
            "grid_gap": null,
            "grid_row": null,
            "grid_template_areas": null,
            "grid_template_columns": null,
            "grid_template_rows": null,
            "height": null,
            "justify_content": null,
            "justify_items": null,
            "left": null,
            "margin": null,
            "max_height": null,
            "max_width": null,
            "min_height": null,
            "min_width": null,
            "object_fit": null,
            "object_position": null,
            "order": null,
            "overflow": null,
            "overflow_x": null,
            "overflow_y": null,
            "padding": null,
            "right": null,
            "top": null,
            "visibility": null,
            "width": null
          }
        },
        "e73a847dd00d4cdcad0d504598472e6b": {
          "model_module": "@jupyter-widgets/controls",
          "model_name": "ProgressStyleModel",
          "model_module_version": "1.5.0",
          "state": {
            "_model_module": "@jupyter-widgets/controls",
            "_model_module_version": "1.5.0",
            "_model_name": "ProgressStyleModel",
            "_view_count": null,
            "_view_module": "@jupyter-widgets/base",
            "_view_module_version": "1.2.0",
            "_view_name": "StyleView",
            "bar_color": null,
            "description_width": ""
          }
        },
        "0a93ac53ebcc41549c4f2f05eab72fe3": {
          "model_module": "@jupyter-widgets/base",
          "model_name": "LayoutModel",
          "model_module_version": "1.2.0",
          "state": {
            "_model_module": "@jupyter-widgets/base",
            "_model_module_version": "1.2.0",
            "_model_name": "LayoutModel",
            "_view_count": null,
            "_view_module": "@jupyter-widgets/base",
            "_view_module_version": "1.2.0",
            "_view_name": "LayoutView",
            "align_content": null,
            "align_items": null,
            "align_self": null,
            "border": null,
            "bottom": null,
            "display": null,
            "flex": null,
            "flex_flow": null,
            "grid_area": null,
            "grid_auto_columns": null,
            "grid_auto_flow": null,
            "grid_auto_rows": null,
            "grid_column": null,
            "grid_gap": null,
            "grid_row": null,
            "grid_template_areas": null,
            "grid_template_columns": null,
            "grid_template_rows": null,
            "height": null,
            "justify_content": null,
            "justify_items": null,
            "left": null,
            "margin": null,
            "max_height": null,
            "max_width": null,
            "min_height": null,
            "min_width": null,
            "object_fit": null,
            "object_position": null,
            "order": null,
            "overflow": null,
            "overflow_x": null,
            "overflow_y": null,
            "padding": null,
            "right": null,
            "top": null,
            "visibility": null,
            "width": null
          }
        },
        "e0c38bee286d4a95b82661e78e191baf": {
          "model_module": "@jupyter-widgets/controls",
          "model_name": "DescriptionStyleModel",
          "model_module_version": "1.5.0",
          "state": {
            "_model_module": "@jupyter-widgets/controls",
            "_model_module_version": "1.5.0",
            "_model_name": "DescriptionStyleModel",
            "_view_count": null,
            "_view_module": "@jupyter-widgets/base",
            "_view_module_version": "1.2.0",
            "_view_name": "StyleView",
            "description_width": ""
          }
        },
        "438e7ebea6dc4884994773081061213f": {
          "model_module": "@jupyter-widgets/controls",
          "model_name": "HBoxModel",
          "model_module_version": "1.5.0",
          "state": {
            "_dom_classes": [],
            "_model_module": "@jupyter-widgets/controls",
            "_model_module_version": "1.5.0",
            "_model_name": "HBoxModel",
            "_view_count": null,
            "_view_module": "@jupyter-widgets/controls",
            "_view_module_version": "1.5.0",
            "_view_name": "HBoxView",
            "box_style": "",
            "children": [
              "IPY_MODEL_c0d40def7a6a4973a70851c138b6ce6b",
              "IPY_MODEL_b7f373205f5e4ff7be34d0ce079a85a0",
              "IPY_MODEL_ba214ebe093a4aeba6ce01b7e6d14e03"
            ],
            "layout": "IPY_MODEL_8310d52c97e3445bb15dadbcf538c4e9"
          }
        },
        "c0d40def7a6a4973a70851c138b6ce6b": {
          "model_module": "@jupyter-widgets/controls",
          "model_name": "HTMLModel",
          "model_module_version": "1.5.0",
          "state": {
            "_dom_classes": [],
            "_model_module": "@jupyter-widgets/controls",
            "_model_module_version": "1.5.0",
            "_model_name": "HTMLModel",
            "_view_count": null,
            "_view_module": "@jupyter-widgets/controls",
            "_view_module_version": "1.5.0",
            "_view_name": "HTMLView",
            "description": "",
            "description_tooltip": null,
            "layout": "IPY_MODEL_41d916b549b2448792707ffb4cc9b855",
            "placeholder": "​",
            "style": "IPY_MODEL_9f6f70cef6b44c3c977615dd284bc8cf",
            "value": "Downloading: 100%"
          }
        },
        "b7f373205f5e4ff7be34d0ce079a85a0": {
          "model_module": "@jupyter-widgets/controls",
          "model_name": "FloatProgressModel",
          "model_module_version": "1.5.0",
          "state": {
            "_dom_classes": [],
            "_model_module": "@jupyter-widgets/controls",
            "_model_module_version": "1.5.0",
            "_model_name": "FloatProgressModel",
            "_view_count": null,
            "_view_module": "@jupyter-widgets/controls",
            "_view_module_version": "1.5.0",
            "_view_name": "ProgressView",
            "bar_style": "success",
            "description": "",
            "description_tooltip": null,
            "layout": "IPY_MODEL_c5a194f6f297419f97d44088b0edd179",
            "max": 3162999,
            "min": 0,
            "orientation": "horizontal",
            "style": "IPY_MODEL_54d5c641453f42d19a7f64f610b119a4",
            "value": 3162999
          }
        },
        "ba214ebe093a4aeba6ce01b7e6d14e03": {
          "model_module": "@jupyter-widgets/controls",
          "model_name": "HTMLModel",
          "model_module_version": "1.5.0",
          "state": {
            "_dom_classes": [],
            "_model_module": "@jupyter-widgets/controls",
            "_model_module_version": "1.5.0",
            "_model_name": "HTMLModel",
            "_view_count": null,
            "_view_module": "@jupyter-widgets/controls",
            "_view_module_version": "1.5.0",
            "_view_name": "HTMLView",
            "description": "",
            "description_tooltip": null,
            "layout": "IPY_MODEL_5f37a9c0f4e94892ab8583cde32c3c0d",
            "placeholder": "​",
            "style": "IPY_MODEL_4adf8de838934277b4f6ed614aa68a40",
            "value": " 3.02M/3.02M [00:00&lt;00:00, 5.79MB/s]"
          }
        },
        "8310d52c97e3445bb15dadbcf538c4e9": {
          "model_module": "@jupyter-widgets/base",
          "model_name": "LayoutModel",
          "model_module_version": "1.2.0",
          "state": {
            "_model_module": "@jupyter-widgets/base",
            "_model_module_version": "1.2.0",
            "_model_name": "LayoutModel",
            "_view_count": null,
            "_view_module": "@jupyter-widgets/base",
            "_view_module_version": "1.2.0",
            "_view_name": "LayoutView",
            "align_content": null,
            "align_items": null,
            "align_self": null,
            "border": null,
            "bottom": null,
            "display": null,
            "flex": null,
            "flex_flow": null,
            "grid_area": null,
            "grid_auto_columns": null,
            "grid_auto_flow": null,
            "grid_auto_rows": null,
            "grid_column": null,
            "grid_gap": null,
            "grid_row": null,
            "grid_template_areas": null,
            "grid_template_columns": null,
            "grid_template_rows": null,
            "height": null,
            "justify_content": null,
            "justify_items": null,
            "left": null,
            "margin": null,
            "max_height": null,
            "max_width": null,
            "min_height": null,
            "min_width": null,
            "object_fit": null,
            "object_position": null,
            "order": null,
            "overflow": null,
            "overflow_x": null,
            "overflow_y": null,
            "padding": null,
            "right": null,
            "top": null,
            "visibility": null,
            "width": null
          }
        },
        "41d916b549b2448792707ffb4cc9b855": {
          "model_module": "@jupyter-widgets/base",
          "model_name": "LayoutModel",
          "model_module_version": "1.2.0",
          "state": {
            "_model_module": "@jupyter-widgets/base",
            "_model_module_version": "1.2.0",
            "_model_name": "LayoutModel",
            "_view_count": null,
            "_view_module": "@jupyter-widgets/base",
            "_view_module_version": "1.2.0",
            "_view_name": "LayoutView",
            "align_content": null,
            "align_items": null,
            "align_self": null,
            "border": null,
            "bottom": null,
            "display": null,
            "flex": null,
            "flex_flow": null,
            "grid_area": null,
            "grid_auto_columns": null,
            "grid_auto_flow": null,
            "grid_auto_rows": null,
            "grid_column": null,
            "grid_gap": null,
            "grid_row": null,
            "grid_template_areas": null,
            "grid_template_columns": null,
            "grid_template_rows": null,
            "height": null,
            "justify_content": null,
            "justify_items": null,
            "left": null,
            "margin": null,
            "max_height": null,
            "max_width": null,
            "min_height": null,
            "min_width": null,
            "object_fit": null,
            "object_position": null,
            "order": null,
            "overflow": null,
            "overflow_x": null,
            "overflow_y": null,
            "padding": null,
            "right": null,
            "top": null,
            "visibility": null,
            "width": null
          }
        },
        "9f6f70cef6b44c3c977615dd284bc8cf": {
          "model_module": "@jupyter-widgets/controls",
          "model_name": "DescriptionStyleModel",
          "model_module_version": "1.5.0",
          "state": {
            "_model_module": "@jupyter-widgets/controls",
            "_model_module_version": "1.5.0",
            "_model_name": "DescriptionStyleModel",
            "_view_count": null,
            "_view_module": "@jupyter-widgets/base",
            "_view_module_version": "1.2.0",
            "_view_name": "StyleView",
            "description_width": ""
          }
        },
        "c5a194f6f297419f97d44088b0edd179": {
          "model_module": "@jupyter-widgets/base",
          "model_name": "LayoutModel",
          "model_module_version": "1.2.0",
          "state": {
            "_model_module": "@jupyter-widgets/base",
            "_model_module_version": "1.2.0",
            "_model_name": "LayoutModel",
            "_view_count": null,
            "_view_module": "@jupyter-widgets/base",
            "_view_module_version": "1.2.0",
            "_view_name": "LayoutView",
            "align_content": null,
            "align_items": null,
            "align_self": null,
            "border": null,
            "bottom": null,
            "display": null,
            "flex": null,
            "flex_flow": null,
            "grid_area": null,
            "grid_auto_columns": null,
            "grid_auto_flow": null,
            "grid_auto_rows": null,
            "grid_column": null,
            "grid_gap": null,
            "grid_row": null,
            "grid_template_areas": null,
            "grid_template_columns": null,
            "grid_template_rows": null,
            "height": null,
            "justify_content": null,
            "justify_items": null,
            "left": null,
            "margin": null,
            "max_height": null,
            "max_width": null,
            "min_height": null,
            "min_width": null,
            "object_fit": null,
            "object_position": null,
            "order": null,
            "overflow": null,
            "overflow_x": null,
            "overflow_y": null,
            "padding": null,
            "right": null,
            "top": null,
            "visibility": null,
            "width": null
          }
        },
        "54d5c641453f42d19a7f64f610b119a4": {
          "model_module": "@jupyter-widgets/controls",
          "model_name": "ProgressStyleModel",
          "model_module_version": "1.5.0",
          "state": {
            "_model_module": "@jupyter-widgets/controls",
            "_model_module_version": "1.5.0",
            "_model_name": "ProgressStyleModel",
            "_view_count": null,
            "_view_module": "@jupyter-widgets/base",
            "_view_module_version": "1.2.0",
            "_view_name": "StyleView",
            "bar_color": null,
            "description_width": ""
          }
        },
        "5f37a9c0f4e94892ab8583cde32c3c0d": {
          "model_module": "@jupyter-widgets/base",
          "model_name": "LayoutModel",
          "model_module_version": "1.2.0",
          "state": {
            "_model_module": "@jupyter-widgets/base",
            "_model_module_version": "1.2.0",
            "_model_name": "LayoutModel",
            "_view_count": null,
            "_view_module": "@jupyter-widgets/base",
            "_view_module_version": "1.2.0",
            "_view_name": "LayoutView",
            "align_content": null,
            "align_items": null,
            "align_self": null,
            "border": null,
            "bottom": null,
            "display": null,
            "flex": null,
            "flex_flow": null,
            "grid_area": null,
            "grid_auto_columns": null,
            "grid_auto_flow": null,
            "grid_auto_rows": null,
            "grid_column": null,
            "grid_gap": null,
            "grid_row": null,
            "grid_template_areas": null,
            "grid_template_columns": null,
            "grid_template_rows": null,
            "height": null,
            "justify_content": null,
            "justify_items": null,
            "left": null,
            "margin": null,
            "max_height": null,
            "max_width": null,
            "min_height": null,
            "min_width": null,
            "object_fit": null,
            "object_position": null,
            "order": null,
            "overflow": null,
            "overflow_x": null,
            "overflow_y": null,
            "padding": null,
            "right": null,
            "top": null,
            "visibility": null,
            "width": null
          }
        },
        "4adf8de838934277b4f6ed614aa68a40": {
          "model_module": "@jupyter-widgets/controls",
          "model_name": "DescriptionStyleModel",
          "model_module_version": "1.5.0",
          "state": {
            "_model_module": "@jupyter-widgets/controls",
            "_model_module_version": "1.5.0",
            "_model_name": "DescriptionStyleModel",
            "_view_count": null,
            "_view_module": "@jupyter-widgets/base",
            "_view_module_version": "1.2.0",
            "_view_name": "StyleView",
            "description_width": ""
          }
        },
        "37509c290ab04a6084c950dfb4035238": {
          "model_module": "@jupyter-widgets/controls",
          "model_name": "HBoxModel",
          "model_module_version": "1.5.0",
          "state": {
            "_dom_classes": [],
            "_model_module": "@jupyter-widgets/controls",
            "_model_module_version": "1.5.0",
            "_model_name": "HBoxModel",
            "_view_count": null,
            "_view_module": "@jupyter-widgets/controls",
            "_view_module_version": "1.5.0",
            "_view_name": "HBoxView",
            "box_style": "",
            "children": [
              "IPY_MODEL_081801d38a2146eb8b6320aa4236c0fd",
              "IPY_MODEL_b7dfa5e4f75f4e289333e8e9c0f16c91",
              "IPY_MODEL_0cda172938ad479baed31926c46ea812"
            ],
            "layout": "IPY_MODEL_9cb450bc80654cb59cdebdf1db7d9714"
          }
        },
        "081801d38a2146eb8b6320aa4236c0fd": {
          "model_module": "@jupyter-widgets/controls",
          "model_name": "HTMLModel",
          "model_module_version": "1.5.0",
          "state": {
            "_dom_classes": [],
            "_model_module": "@jupyter-widgets/controls",
            "_model_module_version": "1.5.0",
            "_model_name": "HTMLModel",
            "_view_count": null,
            "_view_module": "@jupyter-widgets/controls",
            "_view_module_version": "1.5.0",
            "_view_name": "HTMLView",
            "description": "",
            "description_tooltip": null,
            "layout": "IPY_MODEL_f67a74f9330c4c9f900ffeca1cff13ee",
            "placeholder": "​",
            "style": "IPY_MODEL_249780f1b2df4e3db6f75f1aad5286d8",
            "value": "Downloading: 100%"
          }
        },
        "b7dfa5e4f75f4e289333e8e9c0f16c91": {
          "model_module": "@jupyter-widgets/controls",
          "model_name": "FloatProgressModel",
          "model_module_version": "1.5.0",
          "state": {
            "_dom_classes": [],
            "_model_module": "@jupyter-widgets/controls",
            "_model_module_version": "1.5.0",
            "_model_name": "FloatProgressModel",
            "_view_count": null,
            "_view_module": "@jupyter-widgets/controls",
            "_view_module_version": "1.5.0",
            "_view_name": "ProgressView",
            "bar_style": "success",
            "description": "",
            "description_tooltip": null,
            "layout": "IPY_MODEL_b120b9a7b55f45bf80c9dadb75fe9a11",
            "max": 113,
            "min": 0,
            "orientation": "horizontal",
            "style": "IPY_MODEL_3ad7cfeb6080417c94c0e2c2d3b15554",
            "value": 113
          }
        },
        "0cda172938ad479baed31926c46ea812": {
          "model_module": "@jupyter-widgets/controls",
          "model_name": "HTMLModel",
          "model_module_version": "1.5.0",
          "state": {
            "_dom_classes": [],
            "_model_module": "@jupyter-widgets/controls",
            "_model_module_version": "1.5.0",
            "_model_name": "HTMLModel",
            "_view_count": null,
            "_view_module": "@jupyter-widgets/controls",
            "_view_module_version": "1.5.0",
            "_view_name": "HTMLView",
            "description": "",
            "description_tooltip": null,
            "layout": "IPY_MODEL_af59220bf7f242a787ac185ec32224d4",
            "placeholder": "​",
            "style": "IPY_MODEL_5a2315ec4add4057b1bd955b29c321a3",
            "value": " 113/113 [00:00&lt;00:00, 2.21kB/s]"
          }
        },
        "9cb450bc80654cb59cdebdf1db7d9714": {
          "model_module": "@jupyter-widgets/base",
          "model_name": "LayoutModel",
          "model_module_version": "1.2.0",
          "state": {
            "_model_module": "@jupyter-widgets/base",
            "_model_module_version": "1.2.0",
            "_model_name": "LayoutModel",
            "_view_count": null,
            "_view_module": "@jupyter-widgets/base",
            "_view_module_version": "1.2.0",
            "_view_name": "LayoutView",
            "align_content": null,
            "align_items": null,
            "align_self": null,
            "border": null,
            "bottom": null,
            "display": null,
            "flex": null,
            "flex_flow": null,
            "grid_area": null,
            "grid_auto_columns": null,
            "grid_auto_flow": null,
            "grid_auto_rows": null,
            "grid_column": null,
            "grid_gap": null,
            "grid_row": null,
            "grid_template_areas": null,
            "grid_template_columns": null,
            "grid_template_rows": null,
            "height": null,
            "justify_content": null,
            "justify_items": null,
            "left": null,
            "margin": null,
            "max_height": null,
            "max_width": null,
            "min_height": null,
            "min_width": null,
            "object_fit": null,
            "object_position": null,
            "order": null,
            "overflow": null,
            "overflow_x": null,
            "overflow_y": null,
            "padding": null,
            "right": null,
            "top": null,
            "visibility": null,
            "width": null
          }
        },
        "f67a74f9330c4c9f900ffeca1cff13ee": {
          "model_module": "@jupyter-widgets/base",
          "model_name": "LayoutModel",
          "model_module_version": "1.2.0",
          "state": {
            "_model_module": "@jupyter-widgets/base",
            "_model_module_version": "1.2.0",
            "_model_name": "LayoutModel",
            "_view_count": null,
            "_view_module": "@jupyter-widgets/base",
            "_view_module_version": "1.2.0",
            "_view_name": "LayoutView",
            "align_content": null,
            "align_items": null,
            "align_self": null,
            "border": null,
            "bottom": null,
            "display": null,
            "flex": null,
            "flex_flow": null,
            "grid_area": null,
            "grid_auto_columns": null,
            "grid_auto_flow": null,
            "grid_auto_rows": null,
            "grid_column": null,
            "grid_gap": null,
            "grid_row": null,
            "grid_template_areas": null,
            "grid_template_columns": null,
            "grid_template_rows": null,
            "height": null,
            "justify_content": null,
            "justify_items": null,
            "left": null,
            "margin": null,
            "max_height": null,
            "max_width": null,
            "min_height": null,
            "min_width": null,
            "object_fit": null,
            "object_position": null,
            "order": null,
            "overflow": null,
            "overflow_x": null,
            "overflow_y": null,
            "padding": null,
            "right": null,
            "top": null,
            "visibility": null,
            "width": null
          }
        },
        "249780f1b2df4e3db6f75f1aad5286d8": {
          "model_module": "@jupyter-widgets/controls",
          "model_name": "DescriptionStyleModel",
          "model_module_version": "1.5.0",
          "state": {
            "_model_module": "@jupyter-widgets/controls",
            "_model_module_version": "1.5.0",
            "_model_name": "DescriptionStyleModel",
            "_view_count": null,
            "_view_module": "@jupyter-widgets/base",
            "_view_module_version": "1.2.0",
            "_view_name": "StyleView",
            "description_width": ""
          }
        },
        "b120b9a7b55f45bf80c9dadb75fe9a11": {
          "model_module": "@jupyter-widgets/base",
          "model_name": "LayoutModel",
          "model_module_version": "1.2.0",
          "state": {
            "_model_module": "@jupyter-widgets/base",
            "_model_module_version": "1.2.0",
            "_model_name": "LayoutModel",
            "_view_count": null,
            "_view_module": "@jupyter-widgets/base",
            "_view_module_version": "1.2.0",
            "_view_name": "LayoutView",
            "align_content": null,
            "align_items": null,
            "align_self": null,
            "border": null,
            "bottom": null,
            "display": null,
            "flex": null,
            "flex_flow": null,
            "grid_area": null,
            "grid_auto_columns": null,
            "grid_auto_flow": null,
            "grid_auto_rows": null,
            "grid_column": null,
            "grid_gap": null,
            "grid_row": null,
            "grid_template_areas": null,
            "grid_template_columns": null,
            "grid_template_rows": null,
            "height": null,
            "justify_content": null,
            "justify_items": null,
            "left": null,
            "margin": null,
            "max_height": null,
            "max_width": null,
            "min_height": null,
            "min_width": null,
            "object_fit": null,
            "object_position": null,
            "order": null,
            "overflow": null,
            "overflow_x": null,
            "overflow_y": null,
            "padding": null,
            "right": null,
            "top": null,
            "visibility": null,
            "width": null
          }
        },
        "3ad7cfeb6080417c94c0e2c2d3b15554": {
          "model_module": "@jupyter-widgets/controls",
          "model_name": "ProgressStyleModel",
          "model_module_version": "1.5.0",
          "state": {
            "_model_module": "@jupyter-widgets/controls",
            "_model_module_version": "1.5.0",
            "_model_name": "ProgressStyleModel",
            "_view_count": null,
            "_view_module": "@jupyter-widgets/base",
            "_view_module_version": "1.2.0",
            "_view_name": "StyleView",
            "bar_color": null,
            "description_width": ""
          }
        },
        "af59220bf7f242a787ac185ec32224d4": {
          "model_module": "@jupyter-widgets/base",
          "model_name": "LayoutModel",
          "model_module_version": "1.2.0",
          "state": {
            "_model_module": "@jupyter-widgets/base",
            "_model_module_version": "1.2.0",
            "_model_name": "LayoutModel",
            "_view_count": null,
            "_view_module": "@jupyter-widgets/base",
            "_view_module_version": "1.2.0",
            "_view_name": "LayoutView",
            "align_content": null,
            "align_items": null,
            "align_self": null,
            "border": null,
            "bottom": null,
            "display": null,
            "flex": null,
            "flex_flow": null,
            "grid_area": null,
            "grid_auto_columns": null,
            "grid_auto_flow": null,
            "grid_auto_rows": null,
            "grid_column": null,
            "grid_gap": null,
            "grid_row": null,
            "grid_template_areas": null,
            "grid_template_columns": null,
            "grid_template_rows": null,
            "height": null,
            "justify_content": null,
            "justify_items": null,
            "left": null,
            "margin": null,
            "max_height": null,
            "max_width": null,
            "min_height": null,
            "min_width": null,
            "object_fit": null,
            "object_position": null,
            "order": null,
            "overflow": null,
            "overflow_x": null,
            "overflow_y": null,
            "padding": null,
            "right": null,
            "top": null,
            "visibility": null,
            "width": null
          }
        },
        "5a2315ec4add4057b1bd955b29c321a3": {
          "model_module": "@jupyter-widgets/controls",
          "model_name": "DescriptionStyleModel",
          "model_module_version": "1.5.0",
          "state": {
            "_model_module": "@jupyter-widgets/controls",
            "_model_module_version": "1.5.0",
            "_model_name": "DescriptionStyleModel",
            "_view_count": null,
            "_view_module": "@jupyter-widgets/base",
            "_view_module_version": "1.2.0",
            "_view_name": "StyleView",
            "description_width": ""
          }
        },
        "f19f397bc5ca47dc841709449fc46cc8": {
          "model_module": "@jupyter-widgets/controls",
          "model_name": "HBoxModel",
          "model_module_version": "1.5.0",
          "state": {
            "_dom_classes": [],
            "_model_module": "@jupyter-widgets/controls",
            "_model_module_version": "1.5.0",
            "_model_name": "HBoxModel",
            "_view_count": null,
            "_view_module": "@jupyter-widgets/controls",
            "_view_module_version": "1.5.0",
            "_view_name": "HBoxView",
            "box_style": "",
            "children": [
              "IPY_MODEL_0653a550cb7b4130a2ae456173d47820",
              "IPY_MODEL_fe8422edd282419fa3e5fe2de2eadbbf",
              "IPY_MODEL_51fccb97666949aca9e6e5f538c33267"
            ],
            "layout": "IPY_MODEL_2f666ae53c9244e4b80b895e34084535"
          }
        },
        "0653a550cb7b4130a2ae456173d47820": {
          "model_module": "@jupyter-widgets/controls",
          "model_name": "HTMLModel",
          "model_module_version": "1.5.0",
          "state": {
            "_dom_classes": [],
            "_model_module": "@jupyter-widgets/controls",
            "_model_module_version": "1.5.0",
            "_model_name": "HTMLModel",
            "_view_count": null,
            "_view_module": "@jupyter-widgets/controls",
            "_view_module_version": "1.5.0",
            "_view_name": "HTMLView",
            "description": "",
            "description_tooltip": null,
            "layout": "IPY_MODEL_0226d147617e4edd854628009f300963",
            "placeholder": "​",
            "style": "IPY_MODEL_5e7704756a7a49ee94000584cf94762b",
            "value": "Downloading: 100%"
          }
        },
        "fe8422edd282419fa3e5fe2de2eadbbf": {
          "model_module": "@jupyter-widgets/controls",
          "model_name": "FloatProgressModel",
          "model_module_version": "1.5.0",
          "state": {
            "_dom_classes": [],
            "_model_module": "@jupyter-widgets/controls",
            "_model_module_version": "1.5.0",
            "_model_name": "FloatProgressModel",
            "_view_count": null,
            "_view_module": "@jupyter-widgets/controls",
            "_view_module_version": "1.5.0",
            "_view_name": "ProgressView",
            "bar_style": "success",
            "description": "",
            "description_tooltip": null,
            "layout": "IPY_MODEL_f74c2bca98d84883b2ab0813e6709332",
            "max": 953477430,
            "min": 0,
            "orientation": "horizontal",
            "style": "IPY_MODEL_b548dd1654404ae0b77ca7810f7bb220",
            "value": 953477430
          }
        },
        "51fccb97666949aca9e6e5f538c33267": {
          "model_module": "@jupyter-widgets/controls",
          "model_name": "HTMLModel",
          "model_module_version": "1.5.0",
          "state": {
            "_dom_classes": [],
            "_model_module": "@jupyter-widgets/controls",
            "_model_module_version": "1.5.0",
            "_model_name": "HTMLModel",
            "_view_count": null,
            "_view_module": "@jupyter-widgets/controls",
            "_view_module_version": "1.5.0",
            "_view_name": "HTMLView",
            "description": "",
            "description_tooltip": null,
            "layout": "IPY_MODEL_b1b10467f7624b2a87c4519867ecb463",
            "placeholder": "​",
            "style": "IPY_MODEL_bd194e4d0d544290b95759b0a6ebc4f5",
            "value": " 909M/909M [00:59&lt;00:00, 30.8MB/s]"
          }
        },
        "2f666ae53c9244e4b80b895e34084535": {
          "model_module": "@jupyter-widgets/base",
          "model_name": "LayoutModel",
          "model_module_version": "1.2.0",
          "state": {
            "_model_module": "@jupyter-widgets/base",
            "_model_module_version": "1.2.0",
            "_model_name": "LayoutModel",
            "_view_count": null,
            "_view_module": "@jupyter-widgets/base",
            "_view_module_version": "1.2.0",
            "_view_name": "LayoutView",
            "align_content": null,
            "align_items": null,
            "align_self": null,
            "border": null,
            "bottom": null,
            "display": null,
            "flex": null,
            "flex_flow": null,
            "grid_area": null,
            "grid_auto_columns": null,
            "grid_auto_flow": null,
            "grid_auto_rows": null,
            "grid_column": null,
            "grid_gap": null,
            "grid_row": null,
            "grid_template_areas": null,
            "grid_template_columns": null,
            "grid_template_rows": null,
            "height": null,
            "justify_content": null,
            "justify_items": null,
            "left": null,
            "margin": null,
            "max_height": null,
            "max_width": null,
            "min_height": null,
            "min_width": null,
            "object_fit": null,
            "object_position": null,
            "order": null,
            "overflow": null,
            "overflow_x": null,
            "overflow_y": null,
            "padding": null,
            "right": null,
            "top": null,
            "visibility": null,
            "width": null
          }
        },
        "0226d147617e4edd854628009f300963": {
          "model_module": "@jupyter-widgets/base",
          "model_name": "LayoutModel",
          "model_module_version": "1.2.0",
          "state": {
            "_model_module": "@jupyter-widgets/base",
            "_model_module_version": "1.2.0",
            "_model_name": "LayoutModel",
            "_view_count": null,
            "_view_module": "@jupyter-widgets/base",
            "_view_module_version": "1.2.0",
            "_view_name": "LayoutView",
            "align_content": null,
            "align_items": null,
            "align_self": null,
            "border": null,
            "bottom": null,
            "display": null,
            "flex": null,
            "flex_flow": null,
            "grid_area": null,
            "grid_auto_columns": null,
            "grid_auto_flow": null,
            "grid_auto_rows": null,
            "grid_column": null,
            "grid_gap": null,
            "grid_row": null,
            "grid_template_areas": null,
            "grid_template_columns": null,
            "grid_template_rows": null,
            "height": null,
            "justify_content": null,
            "justify_items": null,
            "left": null,
            "margin": null,
            "max_height": null,
            "max_width": null,
            "min_height": null,
            "min_width": null,
            "object_fit": null,
            "object_position": null,
            "order": null,
            "overflow": null,
            "overflow_x": null,
            "overflow_y": null,
            "padding": null,
            "right": null,
            "top": null,
            "visibility": null,
            "width": null
          }
        },
        "5e7704756a7a49ee94000584cf94762b": {
          "model_module": "@jupyter-widgets/controls",
          "model_name": "DescriptionStyleModel",
          "model_module_version": "1.5.0",
          "state": {
            "_model_module": "@jupyter-widgets/controls",
            "_model_module_version": "1.5.0",
            "_model_name": "DescriptionStyleModel",
            "_view_count": null,
            "_view_module": "@jupyter-widgets/base",
            "_view_module_version": "1.2.0",
            "_view_name": "StyleView",
            "description_width": ""
          }
        },
        "f74c2bca98d84883b2ab0813e6709332": {
          "model_module": "@jupyter-widgets/base",
          "model_name": "LayoutModel",
          "model_module_version": "1.2.0",
          "state": {
            "_model_module": "@jupyter-widgets/base",
            "_model_module_version": "1.2.0",
            "_model_name": "LayoutModel",
            "_view_count": null,
            "_view_module": "@jupyter-widgets/base",
            "_view_module_version": "1.2.0",
            "_view_name": "LayoutView",
            "align_content": null,
            "align_items": null,
            "align_self": null,
            "border": null,
            "bottom": null,
            "display": null,
            "flex": null,
            "flex_flow": null,
            "grid_area": null,
            "grid_auto_columns": null,
            "grid_auto_flow": null,
            "grid_auto_rows": null,
            "grid_column": null,
            "grid_gap": null,
            "grid_row": null,
            "grid_template_areas": null,
            "grid_template_columns": null,
            "grid_template_rows": null,
            "height": null,
            "justify_content": null,
            "justify_items": null,
            "left": null,
            "margin": null,
            "max_height": null,
            "max_width": null,
            "min_height": null,
            "min_width": null,
            "object_fit": null,
            "object_position": null,
            "order": null,
            "overflow": null,
            "overflow_x": null,
            "overflow_y": null,
            "padding": null,
            "right": null,
            "top": null,
            "visibility": null,
            "width": null
          }
        },
        "b548dd1654404ae0b77ca7810f7bb220": {
          "model_module": "@jupyter-widgets/controls",
          "model_name": "ProgressStyleModel",
          "model_module_version": "1.5.0",
          "state": {
            "_model_module": "@jupyter-widgets/controls",
            "_model_module_version": "1.5.0",
            "_model_name": "ProgressStyleModel",
            "_view_count": null,
            "_view_module": "@jupyter-widgets/base",
            "_view_module_version": "1.2.0",
            "_view_name": "StyleView",
            "bar_color": null,
            "description_width": ""
          }
        },
        "b1b10467f7624b2a87c4519867ecb463": {
          "model_module": "@jupyter-widgets/base",
          "model_name": "LayoutModel",
          "model_module_version": "1.2.0",
          "state": {
            "_model_module": "@jupyter-widgets/base",
            "_model_module_version": "1.2.0",
            "_model_name": "LayoutModel",
            "_view_count": null,
            "_view_module": "@jupyter-widgets/base",
            "_view_module_version": "1.2.0",
            "_view_name": "LayoutView",
            "align_content": null,
            "align_items": null,
            "align_self": null,
            "border": null,
            "bottom": null,
            "display": null,
            "flex": null,
            "flex_flow": null,
            "grid_area": null,
            "grid_auto_columns": null,
            "grid_auto_flow": null,
            "grid_auto_rows": null,
            "grid_column": null,
            "grid_gap": null,
            "grid_row": null,
            "grid_template_areas": null,
            "grid_template_columns": null,
            "grid_template_rows": null,
            "height": null,
            "justify_content": null,
            "justify_items": null,
            "left": null,
            "margin": null,
            "max_height": null,
            "max_width": null,
            "min_height": null,
            "min_width": null,
            "object_fit": null,
            "object_position": null,
            "order": null,
            "overflow": null,
            "overflow_x": null,
            "overflow_y": null,
            "padding": null,
            "right": null,
            "top": null,
            "visibility": null,
            "width": null
          }
        },
        "bd194e4d0d544290b95759b0a6ebc4f5": {
          "model_module": "@jupyter-widgets/controls",
          "model_name": "DescriptionStyleModel",
          "model_module_version": "1.5.0",
          "state": {
            "_model_module": "@jupyter-widgets/controls",
            "_model_module_version": "1.5.0",
            "_model_name": "DescriptionStyleModel",
            "_view_count": null,
            "_view_module": "@jupyter-widgets/base",
            "_view_module_version": "1.2.0",
            "_view_name": "StyleView",
            "description_width": ""
          }
        }
      }
    }
  },
  "cells": [
    {
      "cell_type": "code",
      "source": [
        "!pip install transformers"
      ],
      "metadata": {
        "colab": {
          "base_uri": "https://localhost:8080/"
        },
        "id": "tPf42RyLfoSP",
        "outputId": "256a55d2-1909-47ab-ba06-c0a8e44f7302"
      },
      "execution_count": null,
      "outputs": [
        {
          "output_type": "stream",
          "name": "stdout",
          "text": [
            "Requirement already satisfied: transformers in /usr/local/lib/python3.7/dist-packages (4.18.0)\n",
            "Requirement already satisfied: tokenizers!=0.11.3,<0.13,>=0.11.1 in /usr/local/lib/python3.7/dist-packages (from transformers) (0.12.1)\n",
            "Requirement already satisfied: pyyaml>=5.1 in /usr/local/lib/python3.7/dist-packages (from transformers) (6.0)\n",
            "Requirement already satisfied: requests in /usr/local/lib/python3.7/dist-packages (from transformers) (2.23.0)\n",
            "Requirement already satisfied: regex!=2019.12.17 in /usr/local/lib/python3.7/dist-packages (from transformers) (2019.12.20)\n",
            "Requirement already satisfied: filelock in /usr/local/lib/python3.7/dist-packages (from transformers) (3.6.0)\n",
            "Requirement already satisfied: tqdm>=4.27 in /usr/local/lib/python3.7/dist-packages (from transformers) (4.64.0)\n",
            "Requirement already satisfied: packaging>=20.0 in /usr/local/lib/python3.7/dist-packages (from transformers) (21.3)\n",
            "Requirement already satisfied: sacremoses in /usr/local/lib/python3.7/dist-packages (from transformers) (0.0.53)\n",
            "Requirement already satisfied: numpy>=1.17 in /usr/local/lib/python3.7/dist-packages (from transformers) (1.21.6)\n",
            "Requirement already satisfied: importlib-metadata in /usr/local/lib/python3.7/dist-packages (from transformers) (4.11.3)\n",
            "Requirement already satisfied: huggingface-hub<1.0,>=0.1.0 in /usr/local/lib/python3.7/dist-packages (from transformers) (0.5.1)\n",
            "Requirement already satisfied: typing-extensions>=3.7.4.3 in /usr/local/lib/python3.7/dist-packages (from huggingface-hub<1.0,>=0.1.0->transformers) (4.2.0)\n",
            "Requirement already satisfied: pyparsing!=3.0.5,>=2.0.2 in /usr/local/lib/python3.7/dist-packages (from packaging>=20.0->transformers) (3.0.8)\n",
            "Requirement already satisfied: zipp>=0.5 in /usr/local/lib/python3.7/dist-packages (from importlib-metadata->transformers) (3.8.0)\n",
            "Requirement already satisfied: idna<3,>=2.5 in /usr/local/lib/python3.7/dist-packages (from requests->transformers) (2.10)\n",
            "Requirement already satisfied: chardet<4,>=3.0.2 in /usr/local/lib/python3.7/dist-packages (from requests->transformers) (3.0.4)\n",
            "Requirement already satisfied: urllib3!=1.25.0,!=1.25.1,<1.26,>=1.21.1 in /usr/local/lib/python3.7/dist-packages (from requests->transformers) (1.24.3)\n",
            "Requirement already satisfied: certifi>=2017.4.17 in /usr/local/lib/python3.7/dist-packages (from requests->transformers) (2021.10.8)\n",
            "Requirement already satisfied: click in /usr/local/lib/python3.7/dist-packages (from sacremoses->transformers) (7.1.2)\n",
            "Requirement already satisfied: joblib in /usr/local/lib/python3.7/dist-packages (from sacremoses->transformers) (1.1.0)\n",
            "Requirement already satisfied: six in /usr/local/lib/python3.7/dist-packages (from sacremoses->transformers) (1.15.0)\n"
          ]
        }
      ]
    },
    {
      "cell_type": "code",
      "source": [
        "# imports \n",
        "import re\n",
        "import numpy as np\n",
        "import torch\n",
        "import pandas as pd"
      ],
      "metadata": {
        "id": "RhNOZe9lfkGS"
      },
      "execution_count": null,
      "outputs": []
    },
    {
      "cell_type": "code",
      "source": [
        "device = torch.device(\"cuda:0\" if torch.cuda.is_available() else \"cpu\")\n",
        "print(device)"
      ],
      "metadata": {
        "colab": {
          "base_uri": "https://localhost:8080/"
        },
        "id": "wWW60qJW1XTS",
        "outputId": "18a5d9d1-c446-42a3-ae98-3aed4c620d99"
      },
      "execution_count": null,
      "outputs": [
        {
          "output_type": "stream",
          "name": "stdout",
          "text": [
            "cuda:0\n"
          ]
        }
      ]
    },
    {
      "cell_type": "code",
      "source": [
        "import os\n",
        "import pandas as pd\n",
        "\n",
        "directory = '/content/hindi_coref_data'\n",
        "\n",
        "datasets = []\n",
        "for file in os.listdir(directory):\n",
        "    if file.endswith(\".csv\"):\n",
        "      df = pd.read_csv(os.path.join(directory, file))\n",
        "      datasets.append(df)\n",
        "\n",
        "print(len(datasets))"
      ],
      "metadata": {
        "colab": {
          "base_uri": "https://localhost:8080/"
        },
        "id": "-GTiyfy4Yf2S",
        "outputId": "2f8311c5-791c-4de2-f1da-617ccce63549"
      },
      "execution_count": null,
      "outputs": [
        {
          "output_type": "stream",
          "name": "stdout",
          "text": [
            "275\n"
          ]
        }
      ]
    },
    {
      "cell_type": "code",
      "source": [
        "data = datasets[10]\n",
        "data.columns = [\"word\", \"cref\", \"crefHead\", \"acrefmod\", \"acrefmodHead\", \"crefmod\", \"creftype\", \"Chainhead\"]\n",
        "print(data)"
      ],
      "metadata": {
        "id": "DjrMpnM_mpv5",
        "colab": {
          "base_uri": "https://localhost:8080/"
        },
        "outputId": "1e4c2624-6041-40ae-8106-a7aef9fd1433"
      },
      "execution_count": null,
      "outputs": [
        {
          "output_type": "stream",
          "name": "stdout",
          "text": [
            "       word     cref   crefHead acrefmod acrefmodHead crefmod creftype  \\\n",
            "0        की        _          _        _            _       _        _   \n",
            "1    भूमिका        _          _        _            _       _        _   \n",
            "2    अपनाते        _          _        _            _       _        _   \n",
            "3       हुए        _          _        _            _       _        _   \n",
            "4    झारखंड  i2%1:t2  झारखंड:i2        _            _       _        _   \n",
            "..      ...      ...        ...      ...          ...     ...      ...   \n",
            "325     हाथ        _          _        _            _       _        _   \n",
            "326    धोना        _          _        _            _       _        _   \n",
            "327    पड़ता        _          _        _            _       _        _   \n",
            "328      है        _          _        _            _       _        _   \n",
            "329       ।        _          _        _            _       _        _   \n",
            "\n",
            "    Chainhead  \n",
            "0           _  \n",
            "1           _  \n",
            "2           _  \n",
            "3           _  \n",
            "4           _  \n",
            "..        ...  \n",
            "325         _  \n",
            "326         _  \n",
            "327         _  \n",
            "328         _  \n",
            "329         _  \n",
            "\n",
            "[330 rows x 8 columns]\n"
          ]
        }
      ]
    },
    {
      "cell_type": "markdown",
      "source": [
        "Our coreference annotation scheme includes all-\n",
        "together 7 fields. They are cref : This field represents\n",
        "the unique index for a mention, the unique index for a\n",
        "chain to which a mention belongs and the textual span\n",
        "of a mention [template- MentionId%(0/1):chainId],\n",
        "crefHead : This field represents the linguistic head of\n",
        "a mention, acrefmod : This field specifies the unique\n",
        "index for a modifier and its textual span, crefmod\n",
        ": This field is used to link a mention and its modi-\n",
        "fier with the unique modifier index, crefmodHead\n",
        ": This field represents the linguistic head of a modi-\n",
        "fier, crefType : This field specifies the type relation\n",
        "between mentions of the same chain, and crefChain-\n",
        "Head : This field is used to mark the head mention\n",
        "of the chain."
      ],
      "metadata": {
        "id": "nzKB3Y8I2HXH"
      }
    },
    {
      "cell_type": "markdown",
      "source": [
        "https://arxiv.org/abs/2103.10730 muril dataset\n",
        "\n",
        "https://aclanthology.org/L16-1025/ hindi dataset for anaphora"
      ],
      "metadata": {
        "id": "-1llTmffG_w8"
      }
    },
    {
      "cell_type": "markdown",
      "source": [
        "# hindi \n",
        "\n"
      ],
      "metadata": {
        "id": "Z-SxbvJN934g"
      }
    },
    {
      "cell_type": "code",
      "source": [
        "from transformers import AutoModel, AutoTokenizer\n",
        "\n",
        "# load the murilbert model\n",
        "path = 'google/muril-base-cased'\n",
        "\n",
        "tokenizer = AutoTokenizer.from_pretrained(path)\n",
        "model = AutoModel.from_pretrained(path,\n",
        "                                  output_hidden_states=True # Whether the model returns all hidden-states.\n",
        "                                  ) \n",
        "model.to(device)"
      ],
      "metadata": {
        "colab": {
          "base_uri": "https://localhost:8080/",
          "height": 249,
          "referenced_widgets": [
            "a9b212890fdd413bba22f7e10ce441ad",
            "9d724b9b8d1741e59c1e0c829e469986",
            "7b011187b1ad459693cf27841ea30c9b",
            "3016f87b9ad74f3b87400efd8e074c05",
            "f30460b398f7481c90afc4bc8c70f9e9",
            "b2f8a546bf7a449b8ff751bd5c08f52d",
            "e1a5c8366d224c489b4a8363e0e7f7af",
            "ae7c168f8a64430a85c54248aebb5c4b",
            "fbefbc436ca34519b0cd26f23caf40c2",
            "69a34d3bec4a4b11a1d399db3d6d0eb1",
            "bdb11b2500184060b83f5dab5525ee4b",
            "aca449d72b274cd0af8b1ec981d8d9db",
            "9d9f012915e8489c9006bdc71e525a13",
            "809a3346e4cc49b3a0cedd457efa3cd3",
            "c1e3356df8a041cbadcc34bda534272a",
            "a2a83476d711421eb6cbb8c00f8f4c41",
            "68335e83728f45f98bfd2be0a3cca913",
            "06edb9a9e880400eb76f13ea3d782313",
            "59ec06dfcb6e4a249fafc6a6ce33d132",
            "e73a847dd00d4cdcad0d504598472e6b",
            "0a93ac53ebcc41549c4f2f05eab72fe3",
            "e0c38bee286d4a95b82661e78e191baf",
            "438e7ebea6dc4884994773081061213f",
            "c0d40def7a6a4973a70851c138b6ce6b",
            "b7f373205f5e4ff7be34d0ce079a85a0",
            "ba214ebe093a4aeba6ce01b7e6d14e03",
            "8310d52c97e3445bb15dadbcf538c4e9",
            "41d916b549b2448792707ffb4cc9b855",
            "9f6f70cef6b44c3c977615dd284bc8cf",
            "c5a194f6f297419f97d44088b0edd179",
            "54d5c641453f42d19a7f64f610b119a4",
            "5f37a9c0f4e94892ab8583cde32c3c0d",
            "4adf8de838934277b4f6ed614aa68a40",
            "37509c290ab04a6084c950dfb4035238",
            "081801d38a2146eb8b6320aa4236c0fd",
            "b7dfa5e4f75f4e289333e8e9c0f16c91",
            "0cda172938ad479baed31926c46ea812",
            "9cb450bc80654cb59cdebdf1db7d9714",
            "f67a74f9330c4c9f900ffeca1cff13ee",
            "249780f1b2df4e3db6f75f1aad5286d8",
            "b120b9a7b55f45bf80c9dadb75fe9a11",
            "3ad7cfeb6080417c94c0e2c2d3b15554",
            "af59220bf7f242a787ac185ec32224d4",
            "5a2315ec4add4057b1bd955b29c321a3",
            "f19f397bc5ca47dc841709449fc46cc8",
            "0653a550cb7b4130a2ae456173d47820",
            "fe8422edd282419fa3e5fe2de2eadbbf",
            "51fccb97666949aca9e6e5f538c33267",
            "2f666ae53c9244e4b80b895e34084535",
            "0226d147617e4edd854628009f300963",
            "5e7704756a7a49ee94000584cf94762b",
            "f74c2bca98d84883b2ab0813e6709332",
            "b548dd1654404ae0b77ca7810f7bb220",
            "b1b10467f7624b2a87c4519867ecb463",
            "bd194e4d0d544290b95759b0a6ebc4f5"
          ]
        },
        "id": "bPKrPzouS9bC",
        "outputId": "cd0ab64f-214e-4b67-baf4-a3f8de0878c7"
      },
      "execution_count": null,
      "outputs": [
        {
          "output_type": "display_data",
          "data": {
            "text/plain": [
              "Downloading:   0%|          | 0.00/181 [00:00<?, ?B/s]"
            ],
            "application/vnd.jupyter.widget-view+json": {
              "version_major": 2,
              "version_minor": 0,
              "model_id": "a9b212890fdd413bba22f7e10ce441ad"
            }
          },
          "metadata": {}
        },
        {
          "output_type": "display_data",
          "data": {
            "text/plain": [
              "Downloading:   0%|          | 0.00/411 [00:00<?, ?B/s]"
            ],
            "application/vnd.jupyter.widget-view+json": {
              "version_major": 2,
              "version_minor": 0,
              "model_id": "aca449d72b274cd0af8b1ec981d8d9db"
            }
          },
          "metadata": {}
        },
        {
          "output_type": "display_data",
          "data": {
            "text/plain": [
              "Downloading:   0%|          | 0.00/3.02M [00:00<?, ?B/s]"
            ],
            "application/vnd.jupyter.widget-view+json": {
              "version_major": 2,
              "version_minor": 0,
              "model_id": "438e7ebea6dc4884994773081061213f"
            }
          },
          "metadata": {}
        },
        {
          "output_type": "display_data",
          "data": {
            "text/plain": [
              "Downloading:   0%|          | 0.00/113 [00:00<?, ?B/s]"
            ],
            "application/vnd.jupyter.widget-view+json": {
              "version_major": 2,
              "version_minor": 0,
              "model_id": "37509c290ab04a6084c950dfb4035238"
            }
          },
          "metadata": {}
        },
        {
          "output_type": "display_data",
          "data": {
            "text/plain": [
              "Downloading:   0%|          | 0.00/909M [00:00<?, ?B/s]"
            ],
            "application/vnd.jupyter.widget-view+json": {
              "version_major": 2,
              "version_minor": 0,
              "model_id": "f19f397bc5ca47dc841709449fc46cc8"
            }
          },
          "metadata": {}
        },
        {
          "output_type": "stream",
          "name": "stderr",
          "text": [
            "Some weights of the model checkpoint at google/muril-base-cased were not used when initializing BertModel: ['cls.predictions.transform.LayerNorm.weight', 'cls.seq_relationship.weight', 'cls.predictions.decoder.bias', 'cls.predictions.bias', 'cls.seq_relationship.bias', 'cls.predictions.transform.LayerNorm.bias', 'cls.predictions.transform.dense.bias', 'cls.predictions.decoder.weight', 'cls.predictions.transform.dense.weight']\n",
            "- This IS expected if you are initializing BertModel from the checkpoint of a model trained on another task or with another architecture (e.g. initializing a BertForSequenceClassification model from a BertForPreTraining model).\n",
            "- This IS NOT expected if you are initializing BertModel from the checkpoint of a model that you expect to be exactly identical (initializing a BertForSequenceClassification model from a BertForSequenceClassification model).\n"
          ]
        }
      ]
    },
    {
      "cell_type": "code",
      "source": [
        "def prepare_data(data, start):\n",
        "  # data is taken sentence wise, and stored in the texts array\n",
        "  texts = []\n",
        "  text = \"\"\n",
        "  tags = []\n",
        "  input_tokens = []\n",
        "\n",
        "  for i in range(start, len(data)):\n",
        "    if str(data[\"word\"][i]) == \"।\" :\n",
        "      text += str(data[\"word\"][i])\n",
        "      texts.append(text)\n",
        "      input_tokens += (tokenizer.convert_ids_to_tokens(tokenizer.encode(text)))\n",
        "      text = \"\"\n",
        "    else:\n",
        "      text += str(data[\"word\"][i]) + \" \"\n",
        "      tags.append(data[\"cref\"][i])\n",
        "\n",
        "  return texts, tags, input_tokens\n",
        "\n",
        "def get_word_vectors(texts):\n",
        "  \" function to get hindi word vectors from murilbert \"\n",
        "\n",
        "  outputs = []\n",
        "\n",
        "  for text in texts:\n",
        "    # encoded input with input ids, token type ids and attention mask\n",
        "    input_encoded = tokenizer.encode_plus(text, return_tensors=\"pt\")\n",
        "    input_encoded.to(device)\n",
        "\n",
        "    # obtain and take the sum of all 13 states of BERT output\n",
        "    with torch.no_grad():\n",
        "            states = model(**input_encoded).hidden_states\n",
        "\n",
        "    output = torch.stack([states[i] for i in range(len(states))]).sum(dim = 0)\n",
        "    output = output.squeeze()\n",
        "    outputs.append(output)\n",
        "\n",
        "  return torch.cat(outputs, dim = 0)\n",
        "\n",
        "texts, tags, input_tokens = prepare_data(data, 0)\n",
        "\n",
        "output = get_word_vectors(texts)\n",
        "output.to(device)\n",
        "output.shape"
      ],
      "metadata": {
        "colab": {
          "base_uri": "https://localhost:8080/"
        },
        "id": "1xzv60fpUrj8",
        "outputId": "14f1bcfc-4ba0-4978-9f66-0ce2cd034eac"
      },
      "execution_count": null,
      "outputs": [
        {
          "output_type": "execute_result",
          "data": {
            "text/plain": [
              "torch.Size([372, 768])"
            ]
          },
          "metadata": {},
          "execution_count": 12
        }
      ]
    },
    {
      "cell_type": "code",
      "source": [
        "def getvec(mention):\n",
        "  \" function to get the vector of a mention, it takes the average of all word vectors in the mention \"\n",
        "  vec = torch.zeros(768)\n",
        "  tokens = tokenizer.convert_ids_to_tokens(tokenizer.encode(mention))\n",
        "  count = 1\n",
        "  for i in range(1, len(tokens) - 1):\n",
        "    try: \n",
        "      idx = input_tokens.index(tokens[i])\n",
        "    except:\n",
        "      idx = 1\n",
        "    vec = vec.to(device)\n",
        "    vec = torch.add(vec, output[idx].to(device))\n",
        "    count += 1\n",
        "  \n",
        "  return torch.div(vec, count).to(device)"
      ],
      "metadata": {
        "id": "o2zq2c7XAFIJ"
      },
      "execution_count": null,
      "outputs": []
    },
    {
      "cell_type": "code",
      "source": [
        "# do this file wise\n",
        "def map_mentions(data, start):\n",
        "  \" function to make a list of mentions, along with a list of their corresponding cluster ids\"\n",
        "  mentions = []\n",
        "  mention_ids = [1]\n",
        "  mention = \"\"\n",
        "  count = 1\n",
        "  for i in range(start, len(data)):\n",
        "    tag = data[\"cref\"][i]\n",
        "    if (tag[0] == \"i\"):\n",
        "      idx = (re.search('i(\\d*)%', tag)).group(1)\n",
        "      mention_idx = (re.search('t(.*)', tag)).group(1) \n",
        "      if int(idx) == count:\n",
        "        mention += str(data[\"word\"][i]) + \" \"\n",
        "      else:\n",
        "        mentions.append(mention)\n",
        "        mention_ids.append(mention_idx)\n",
        "        mention = str(data[\"word\"][i]) + \" \"\n",
        "        count += 1\n",
        "\n",
        "  return mentions, mention_ids\n",
        "\n",
        "def make_mention_pairs(mentions, mention_ids):\n",
        "  \" function to make a list of mention pairs and their true/false values \"\n",
        "  x_train = torch.empty(0).to(device)\n",
        "  y_train = torch.empty(0).to(device)\n",
        "\n",
        "  for i in range(len(mentions)):\n",
        "    for j in range(i + 1, len(mentions)):\n",
        "      x_train = torch.cat((x_train, (getvec(mentions[i]) + getvec(mentions[j]))) , 0)\n",
        "      if mention_ids[i] == mention_ids[j]:\n",
        "        y_train = torch.cat((y_train, torch.tensor([1]).to(device)))\n",
        "      else:\n",
        "        y_train = torch.cat((y_train, torch.tensor([0]).to(device)))\n",
        "\n",
        "  x_train = x_train.reshape(-1, 768)\n",
        "\n",
        "  return x_train, y_train\n",
        "\n",
        "mentions, mention_ids = map_mentions(data, 0)\n",
        "\n",
        "x, y = make_mention_pairs(mentions, mention_ids)\n",
        "print(x.shape, y.shape)\n",
        "\n",
        "# x_train = x\n",
        "# y_train = y"
      ],
      "metadata": {
        "colab": {
          "base_uri": "https://localhost:8080/"
        },
        "id": "ZxNWVvzU3qBP",
        "outputId": "8ae88aa7-f037-4765-a361-5715f54bf704"
      },
      "execution_count": null,
      "outputs": [
        {
          "output_type": "stream",
          "name": "stdout",
          "text": [
            "torch.Size([3003, 768]) torch.Size([3003])\n"
          ]
        }
      ]
    },
    {
      "cell_type": "code",
      "source": [
        "x_train = torch.empty(0).to(device)\n",
        "y_train = torch.empty(0).to(device)\n",
        "\n",
        "for data in datasets[:224]:\n",
        "  try:\n",
        "    data.columns = [\"word\", \"cref\", \"crefHead\", \"acrefmod\", \"acrefmodHead\", \"crefmod\", \"creftype\", \"Chainhead\"]\n",
        "\n",
        "    texts, tags, input_tokens = prepare_data(data, 0)\n",
        "    output = get_word_vectors(texts)\n",
        "    mentions, mention_ids = map_mentions(data, 0)\n",
        "\n",
        "    x, y = make_mention_pairs(mentions, mention_ids)\n",
        "    print(x.shape, y.shape)\n",
        "\n",
        "    x_train = torch.cat((x_train, x.to(device)))\n",
        "    y_train = torch.cat((y_train, y.to(device)))\n",
        "  except:\n",
        "    continue\n",
        "\n",
        "x_train = x_train.reshape(-1, 768)"
      ],
      "metadata": {
        "id": "GxfgCmQ4b8JF"
      },
      "execution_count": null,
      "outputs": []
    },
    {
      "cell_type": "code",
      "source": [
        "print(x_train.shape, y_train.shape)"
      ],
      "metadata": {
        "colab": {
          "base_uri": "https://localhost:8080/"
        },
        "id": "X_N8sTsLc51s",
        "outputId": "1b24e60c-9684-436a-8c78-e6aa3734686f"
      },
      "execution_count": null,
      "outputs": [
        {
          "output_type": "stream",
          "name": "stdout",
          "text": [
            "torch.Size([493881, 768]) torch.Size([493881])\n"
          ]
        }
      ]
    },
    {
      "cell_type": "code",
      "source": [
        "# # downsampling\n",
        "# neg_count = 0\n",
        "# pos_count = 0\n",
        "# for i in range(len(y_train)):\n",
        "#   # print(int(y_train[i].item()))\n",
        "#   if(int(y_train[i].item()) == 0):\n",
        "#     neg_count += 1\n",
        "#     if(neg_count %20):\n",
        "#       x_train = np.delete(x_train, i)\n",
        "#       y_train = np.delete(y_train, i)\n",
        "\n",
        "# print(len(y_train))\n",
        "# print(neg_count)"
      ],
      "metadata": {
        "id": "P6kPBZfqpAXL"
      },
      "execution_count": null,
      "outputs": []
    },
    {
      "cell_type": "code",
      "source": [
        "#defining dataset class\n",
        "from torch.utils.data import Dataset, DataLoader\n",
        "class dataset(Dataset):\n",
        "  def __init__(self,x,y):\n",
        "    self.x = torch.tensor(x,dtype=torch.float32)\n",
        "    self.y = torch.tensor(y,dtype=torch.float32)\n",
        "    self.length = self.x.shape[0]\n",
        " \n",
        "  def __getitem__(self,idx):\n",
        "    return self.x[idx],self.y[idx]  \n",
        "\n",
        "  def __len__(self):\n",
        "    return self.length\n",
        "  \n",
        "trainset = dataset(x_train,y_train)\n",
        "#DataLoader\n",
        "trainloader = DataLoader(trainset,batch_size=64,shuffle=False)"
      ],
      "metadata": {
        "id": "ZNhMDRtjFTCu",
        "colab": {
          "base_uri": "https://localhost:8080/"
        },
        "outputId": "00d2bf56-5846-4668-d549-3064926d7881"
      },
      "execution_count": null,
      "outputs": [
        {
          "output_type": "stream",
          "name": "stderr",
          "text": [
            "/usr/local/lib/python3.7/dist-packages/ipykernel_launcher.py:5: UserWarning: To copy construct from a tensor, it is recommended to use sourceTensor.clone().detach() or sourceTensor.clone().detach().requires_grad_(True), rather than torch.tensor(sourceTensor).\n",
            "  \"\"\"\n",
            "/usr/local/lib/python3.7/dist-packages/ipykernel_launcher.py:6: UserWarning: To copy construct from a tensor, it is recommended to use sourceTensor.clone().detach() or sourceTensor.clone().detach().requires_grad_(True), rather than torch.tensor(sourceTensor).\n",
            "  \n"
          ]
        }
      ]
    },
    {
      "cell_type": "code",
      "source": [
        "#defining the network\n",
        "from torch import nn\n",
        "from torch.nn import functional as F\n",
        "\n",
        "class Net(nn.Module):\n",
        "  def __init__(self,input_shape):\n",
        "    super(Net,self).__init__()\n",
        "    self.fc1 = nn.Linear(input_shape,32)\n",
        "    self.fc2 = nn.Linear(32,64)\n",
        "    self.fc3 = nn.Linear(64,1)  \n",
        "  \n",
        "  def forward(self,x): \n",
        "    # print(x.shape)\n",
        "    x = torch.relu(self.fc1(x))\n",
        "    x = torch.relu(self.fc2(x))\n",
        "    x = torch.sigmoid(self.fc3(x))\n",
        "    return x"
      ],
      "metadata": {
        "id": "k7xPbqm_D5aG"
      },
      "execution_count": null,
      "outputs": []
    },
    {
      "cell_type": "code",
      "source": [
        "#hyper parameters\n",
        "learning_rate = 0.01\n",
        "epochs = 200\n",
        "\n",
        "# Model , Optimizer, Loss\n",
        "be_model = Net(input_shape=768)\n",
        "be_model = be_model.to(device)\n",
        "optimizer = torch.optim.SGD(be_model.parameters(),lr=learning_rate)\n",
        "loss_fn = nn.BCELoss()"
      ],
      "metadata": {
        "id": "zWBOpEzv_9iZ"
      },
      "execution_count": null,
      "outputs": []
    },
    {
      "cell_type": "code",
      "source": [
        "# training the classifier\n",
        "\n",
        "#forward \n",
        "\n",
        "for i in range(epochs):\n",
        "  running_loss = 0\n",
        "  last_loss = 0\n",
        "  for j,(x_train,y_train) in enumerate(trainloader):\n",
        "    \n",
        "    #calculate output\n",
        "    output = be_model(x_train)\n",
        " \n",
        "    #calculate loss\n",
        "    loss = loss_fn(output,y_train.reshape(-1,1))\n",
        "\n",
        "    #backprop\n",
        "    optimizer.zero_grad()\n",
        "    loss.backward()\n",
        "    optimizer.step()\n",
        "\n",
        "    running_loss += loss.item()\n",
        "    # if j%50 == 0:\n",
        "  avg_loss = running_loss/ len(trainloader)\n",
        "  # print(len(trainloader))\n",
        "    # losses.append(loss)\n",
        "  #accur.append(acc)\n",
        "  print(\"epoch {}\\tloss : {}\".format(i,avg_loss))"
      ],
      "metadata": {
        "colab": {
          "base_uri": "https://localhost:8080/"
        },
        "id": "qS1gbPrXS2fK",
        "outputId": "05ed62ad-103b-4d80-ca1c-4a54b6dee07b"
      },
      "execution_count": null,
      "outputs": [
        {
          "output_type": "stream",
          "name": "stdout",
          "text": [
            "epoch 0\tloss : 0.20751315575091583\n",
            "epoch 1\tloss : 0.17927496880016072\n",
            "epoch 2\tloss : 0.16547574068988088\n",
            "epoch 3\tloss : 0.15663476091836287\n",
            "epoch 4\tloss : 0.15017050436853704\n",
            "epoch 5\tloss : 0.1451404525407392\n",
            "epoch 6\tloss : 0.14116747736457855\n",
            "epoch 7\tloss : 0.1376792424584613\n",
            "epoch 8\tloss : 0.13461878363061994\n",
            "epoch 9\tloss : 0.13188903391547557\n",
            "epoch 10\tloss : 0.129440069366375\n",
            "epoch 11\tloss : 0.12724080872904053\n",
            "epoch 12\tloss : 0.125277282829557\n",
            "epoch 13\tloss : 0.12360000407649625\n",
            "epoch 14\tloss : 0.12181802535830756\n",
            "epoch 15\tloss : 0.12016650789164066\n",
            "epoch 16\tloss : 0.11863081135178506\n",
            "epoch 17\tloss : 0.11732511590804585\n",
            "epoch 18\tloss : 0.11602537488284431\n",
            "epoch 19\tloss : 0.11491116986668652\n",
            "epoch 20\tloss : 0.11363750083519654\n",
            "epoch 21\tloss : 0.11284147803541054\n",
            "epoch 22\tloss : 0.11182657714966919\n",
            "epoch 23\tloss : 0.11080008170527562\n",
            "epoch 24\tloss : 0.10990207674273801\n",
            "epoch 25\tloss : 0.10905674833429692\n",
            "epoch 26\tloss : 0.10815382810799937\n",
            "epoch 27\tloss : 0.10730067835475336\n",
            "epoch 28\tloss : 0.10659168936640502\n",
            "epoch 29\tloss : 0.10589734696941312\n",
            "epoch 30\tloss : 0.10517644842324914\n",
            "epoch 31\tloss : 0.10447432669070923\n",
            "epoch 32\tloss : 0.10385109541498991\n",
            "epoch 33\tloss : 0.10315325779983835\n",
            "epoch 34\tloss : 0.10249725438152461\n",
            "epoch 35\tloss : 0.10191713732760121\n",
            "epoch 36\tloss : 0.10146451048133441\n",
            "epoch 37\tloss : 0.10082425482109622\n",
            "epoch 38\tloss : 0.10031913485086065\n",
            "epoch 39\tloss : 0.09984825493906067\n",
            "epoch 40\tloss : 0.09938835203898444\n",
            "epoch 41\tloss : 0.09885292346392414\n",
            "epoch 42\tloss : 0.09838405127404802\n",
            "epoch 43\tloss : 0.09791988670927479\n",
            "epoch 44\tloss : 0.09748828777461258\n",
            "epoch 45\tloss : 0.09704944838274905\n",
            "epoch 46\tloss : 0.09657696619713883\n",
            "epoch 47\tloss : 0.0961749114071372\n",
            "epoch 48\tloss : 0.0956957875798363\n",
            "epoch 49\tloss : 0.095306706200265\n",
            "epoch 50\tloss : 0.09492379850615945\n",
            "epoch 51\tloss : 0.09443249798778958\n",
            "epoch 52\tloss : 0.09415677939157305\n",
            "epoch 53\tloss : 0.09378958820580079\n",
            "epoch 54\tloss : 0.09333011424927315\n",
            "epoch 55\tloss : 0.09300166854425265\n",
            "epoch 56\tloss : 0.09268398380314175\n",
            "epoch 57\tloss : 0.0923089114412068\n",
            "epoch 58\tloss : 0.09205628010115963\n",
            "epoch 59\tloss : 0.09168969350552675\n",
            "epoch 60\tloss : 0.09143557048351367\n",
            "epoch 61\tloss : 0.09111025092884162\n",
            "epoch 62\tloss : 0.09077954335722818\n",
            "epoch 63\tloss : 0.09045085595272351\n",
            "epoch 64\tloss : 0.09023076336507617\n",
            "epoch 65\tloss : 0.08985630854144354\n",
            "epoch 66\tloss : 0.089713196241196\n",
            "epoch 67\tloss : 0.08940110525117355\n",
            "epoch 68\tloss : 0.08912375021289214\n",
            "epoch 69\tloss : 0.08872210884142971\n",
            "epoch 70\tloss : 0.0885649717398635\n",
            "epoch 71\tloss : 0.08833016202134895\n",
            "epoch 72\tloss : 0.08809835118940078\n",
            "epoch 73\tloss : 0.08776337497574575\n",
            "epoch 74\tloss : 0.08759296800197004\n",
            "epoch 75\tloss : 0.08746653957150151\n",
            "epoch 76\tloss : 0.08717081156112735\n",
            "epoch 77\tloss : 0.08698009134352486\n",
            "epoch 78\tloss : 0.08675494759479778\n",
            "epoch 79\tloss : 0.08653018208799282\n",
            "epoch 80\tloss : 0.08638531341538593\n",
            "epoch 81\tloss : 0.08613235372413343\n",
            "epoch 82\tloss : 0.08596763022564113\n",
            "epoch 83\tloss : 0.08574007140236439\n",
            "epoch 84\tloss : 0.08554054304210328\n",
            "epoch 85\tloss : 0.0853625949227766\n",
            "epoch 86\tloss : 0.0851916540605809\n",
            "epoch 87\tloss : 0.08506753757299565\n",
            "epoch 88\tloss : 0.08492449686994617\n",
            "epoch 89\tloss : 0.0847083291879833\n",
            "epoch 90\tloss : 0.08449792161064228\n",
            "epoch 91\tloss : 0.08422566222125573\n",
            "epoch 92\tloss : 0.08406316383911638\n",
            "epoch 93\tloss : 0.08393851679218962\n",
            "epoch 94\tloss : 0.08381974037600291\n",
            "epoch 95\tloss : 0.08362911164142553\n",
            "epoch 96\tloss : 0.08346248855681708\n",
            "epoch 97\tloss : 0.08340354079001912\n",
            "epoch 98\tloss : 0.08317545135660988\n",
            "epoch 99\tloss : 0.08296440782815862\n",
            "epoch 100\tloss : 0.08282481375047733\n",
            "epoch 101\tloss : 0.0826673155970344\n",
            "epoch 102\tloss : 0.08263508727535475\n",
            "epoch 103\tloss : 0.0824133585167978\n",
            "epoch 104\tloss : 0.08230008067331997\n",
            "epoch 105\tloss : 0.08209901824732156\n",
            "epoch 106\tloss : 0.08197001987723626\n",
            "epoch 107\tloss : 0.08191902843341863\n",
            "epoch 108\tloss : 0.08171309663852465\n",
            "epoch 109\tloss : 0.08155531533008971\n",
            "epoch 110\tloss : 0.08137543920865971\n",
            "epoch 111\tloss : 0.0812811800842696\n",
            "epoch 112\tloss : 0.08113646955056347\n",
            "epoch 113\tloss : 0.08106103828611518\n",
            "epoch 114\tloss : 0.08090311947745747\n",
            "epoch 115\tloss : 0.08066702010181455\n",
            "epoch 116\tloss : 0.08061676722934999\n",
            "epoch 117\tloss : 0.08048496437069193\n",
            "epoch 118\tloss : 0.08043531589734605\n",
            "epoch 119\tloss : 0.08020417215413125\n",
            "epoch 120\tloss : 0.08022802785985335\n",
            "epoch 121\tloss : 0.07997107035396313\n",
            "epoch 122\tloss : 0.07986990680767408\n",
            "epoch 123\tloss : 0.07978873347920623\n",
            "epoch 124\tloss : 0.07962858226589674\n",
            "epoch 125\tloss : 0.07952350244770746\n",
            "epoch 126\tloss : 0.07939559871773055\n",
            "epoch 127\tloss : 0.07922303724222086\n",
            "epoch 128\tloss : 0.07914647629886888\n",
            "epoch 129\tloss : 0.07893450711698159\n",
            "epoch 130\tloss : 0.07883889816867717\n",
            "epoch 131\tloss : 0.07873831724486681\n",
            "epoch 132\tloss : 0.07873616235820362\n",
            "epoch 133\tloss : 0.07857159522202997\n",
            "epoch 134\tloss : 0.07851023244558258\n",
            "epoch 135\tloss : 0.07833619284393413\n",
            "epoch 136\tloss : 0.07826565019888132\n",
            "epoch 137\tloss : 0.0781230866328513\n",
            "epoch 138\tloss : 0.07805544749896012\n",
            "epoch 139\tloss : 0.07794242769515516\n",
            "epoch 140\tloss : 0.07791190732151217\n",
            "epoch 141\tloss : 0.07784051466342753\n",
            "epoch 142\tloss : 0.0776996070834083\n",
            "epoch 143\tloss : 0.0775672928449367\n",
            "epoch 144\tloss : 0.07752847909401395\n",
            "epoch 145\tloss : 0.0774256991374714\n",
            "epoch 146\tloss : 0.07733008144539436\n",
            "epoch 147\tloss : 0.07720218495255181\n",
            "epoch 148\tloss : 0.07719909252309287\n",
            "epoch 149\tloss : 0.0769668793085352\n",
            "epoch 150\tloss : 0.07692148409154134\n",
            "epoch 151\tloss : 0.07676632648991127\n",
            "epoch 152\tloss : 0.07676777598318427\n",
            "epoch 153\tloss : 0.07664669931588314\n",
            "epoch 154\tloss : 0.07651092437746489\n",
            "epoch 155\tloss : 0.07645877670268293\n",
            "epoch 156\tloss : 0.07635314204680911\n",
            "epoch 157\tloss : 0.07624597356973152\n",
            "epoch 158\tloss : 0.07621101933223078\n",
            "epoch 159\tloss : 0.07619481172586678\n",
            "epoch 160\tloss : 0.07600971123872347\n",
            "epoch 161\tloss : 0.0759237418746156\n",
            "epoch 162\tloss : 0.07582410579341765\n",
            "epoch 163\tloss : 0.07578087770920411\n",
            "epoch 164\tloss : 0.07573924345295639\n",
            "epoch 165\tloss : 0.0756120060359441\n",
            "epoch 166\tloss : 0.07554358140264655\n",
            "epoch 167\tloss : 0.07555564591975059\n",
            "epoch 168\tloss : 0.075385269030959\n",
            "epoch 169\tloss : 0.07533716610467388\n",
            "epoch 170\tloss : 0.07518265811122596\n",
            "epoch 171\tloss : 0.07515243396523724\n",
            "epoch 172\tloss : 0.07508123227113962\n",
            "epoch 173\tloss : 0.0750328483641553\n",
            "epoch 174\tloss : 0.0749924487848652\n",
            "epoch 175\tloss : 0.07491742942498873\n",
            "epoch 176\tloss : 0.07474405174254803\n",
            "epoch 177\tloss : 0.07467277996189062\n",
            "epoch 178\tloss : 0.07457333060984135\n",
            "epoch 179\tloss : 0.07460479890133018\n",
            "epoch 180\tloss : 0.07444918516476756\n",
            "epoch 181\tloss : 0.07444264578699156\n",
            "epoch 182\tloss : 0.07434493295167102\n",
            "epoch 183\tloss : 0.07427772200932962\n",
            "epoch 184\tloss : 0.07424657766361507\n",
            "epoch 185\tloss : 0.07414101727216038\n",
            "epoch 186\tloss : 0.07415849970039905\n",
            "epoch 187\tloss : 0.07396384365697051\n",
            "epoch 188\tloss : 0.07396943796104052\n",
            "epoch 189\tloss : 0.07390459509903864\n",
            "epoch 190\tloss : 0.073811298914092\n",
            "epoch 191\tloss : 0.07368768093321786\n",
            "epoch 192\tloss : 0.07368286282196057\n",
            "epoch 193\tloss : 0.07354993016315563\n",
            "epoch 194\tloss : 0.07352864035284336\n",
            "epoch 195\tloss : 0.07350415500574622\n",
            "epoch 196\tloss : 0.07337951372958545\n",
            "epoch 197\tloss : 0.07331131009741218\n",
            "epoch 198\tloss : 0.07321639505689123\n",
            "epoch 199\tloss : 0.07319863273191685\n"
          ]
        }
      ]
    },
    {
      "cell_type": "markdown",
      "source": [
        "testing"
      ],
      "metadata": {
        "id": "_-EmU-824La4"
      }
    },
    {
      "cell_type": "code",
      "source": [
        "x_test = torch.empty(0).to(device)\n",
        "y_test = torch.empty(0).to(device)\n",
        "\n",
        "for data2 in datasets[224:249]:\n",
        "  try:\n",
        "    data2.columns = [\"word\", \"cref\", \"crefHead\", \"acrefmod\", \"acrefmodHead\", \"crefmod\", \"creftype\", \"Chainhead\"]\n",
        "\n",
        "    texts, tags, input_tokens = prepare_data(data2, 0)\n",
        "\n",
        "    # print(len(texts), texts)\n",
        "    output = get_word_vectors(texts)\n",
        "    output.shape\n",
        "\n",
        "    mentions, mention_ids = map_mentions(data2, 0)\n",
        "\n",
        "    x, y = make_mention_pairs(mentions, mention_ids)\n",
        "    print(x.shape, y.shape)\n",
        "\n",
        "    x_test = torch.cat((x_test, x.to(device)))\n",
        "    y_test = torch.cat((y_test, y.to(device)))\n",
        "  except:\n",
        "    continue\n",
        "\n",
        "x_test = x_test.reshape(-1, 768)"
      ],
      "metadata": {
        "id": "SNEBb-n44Ccs"
      },
      "execution_count": null,
      "outputs": []
    },
    {
      "cell_type": "code",
      "source": [
        "testset = dataset(x_test,y_test)\n",
        "testloader = DataLoader(testset,batch_size=1,shuffle=False)"
      ],
      "metadata": {
        "id": "FVpKy_nTS_kc",
        "colab": {
          "base_uri": "https://localhost:8080/"
        },
        "outputId": "b343a707-2db5-48b7-ff4f-2e68a0d49097"
      },
      "execution_count": null,
      "outputs": [
        {
          "output_type": "stream",
          "name": "stderr",
          "text": [
            "/usr/local/lib/python3.7/dist-packages/ipykernel_launcher.py:5: UserWarning: To copy construct from a tensor, it is recommended to use sourceTensor.clone().detach() or sourceTensor.clone().detach().requires_grad_(True), rather than torch.tensor(sourceTensor).\n",
            "  \"\"\"\n",
            "/usr/local/lib/python3.7/dist-packages/ipykernel_launcher.py:6: UserWarning: To copy construct from a tensor, it is recommended to use sourceTensor.clone().detach() or sourceTensor.clone().detach().requires_grad_(True), rather than torch.tensor(sourceTensor).\n",
            "  \n"
          ]
        }
      ]
    },
    {
      "cell_type": "code",
      "source": [
        "predicted_vals = []\n",
        "actual_vals = []\n",
        "\n",
        "for i,(x_test,y_test) in enumerate(testloader):\n",
        "  \n",
        "  #calculate output\n",
        "  output = be_model(x_test)\n",
        "\n",
        "  if output >= 0.1:\n",
        "    predicted_vals.append(1)\n",
        "  else:\n",
        "    predicted_vals.append(0)\n",
        "  actual_vals.append( int(y_test.item()) )\n",
        "\n",
        "predicted_vals = np.array(predicted_vals)\n",
        "actual_vals = np.array(actual_vals)"
      ],
      "metadata": {
        "id": "oKLN9gtufMlg"
      },
      "execution_count": null,
      "outputs": []
    },
    {
      "cell_type": "code",
      "source": [
        "from sklearn.metrics import accuracy_score\n",
        "from sklearn.metrics import precision_score\n",
        "from sklearn.metrics import recall_score\n",
        "from sklearn.metrics import f1_score\n",
        "from sklearn.metrics import cohen_kappa_score\n",
        "from sklearn.metrics import roc_auc_score\n",
        "from sklearn.metrics import confusion_matrix\n",
        "\n",
        "# predicted_vals\n",
        "# actual_vals\n",
        "# accuracy: (tp + tn) / (p + n)\n",
        "accuracy = accuracy_score(actual_vals, predicted_vals)\n",
        "print('Accuracy: %f' % accuracy)\n",
        "# precision tp / (tp + fp)\n",
        "precision = precision_score(actual_vals, predicted_vals, average='weighted')\n",
        "print('Precision: %f' % precision)\n",
        "# recall: tp / (tp + fn)\n",
        "recall = recall_score(actual_vals, predicted_vals, average='weighted')\n",
        "print('Recall: %f' % recall)\n",
        "# f1: 2 tp / (2 tp + fp + fn)\n",
        "f1 = f1_score(actual_vals, predicted_vals, average='weighted')\n",
        "print('F1 score: %f' % f1)\n",
        " \n",
        "# confusion matrix\n",
        "matrix = confusion_matrix(actual_vals, predicted_vals)\n",
        "print(matrix)   "
      ],
      "metadata": {
        "colab": {
          "base_uri": "https://localhost:8080/"
        },
        "id": "KYrwCfJGehTc",
        "outputId": "68ad19b2-10c9-4d1d-9b1d-558a11024f98"
      },
      "execution_count": null,
      "outputs": [
        {
          "output_type": "stream",
          "name": "stdout",
          "text": [
            "Accuracy: 0.770283\n",
            "Precision: 0.910407\n",
            "Recall: 0.770283\n",
            "F1 score: 0.818875\n",
            "[[36799 10794]\n",
            " [ 1101  3087]]\n"
          ]
        }
      ]
    },
    {
      "cell_type": "code",
      "source": [
        "print(roc_auc_score(actual_vals, predicted_vals))"
      ],
      "metadata": {
        "colab": {
          "base_uri": "https://localhost:8080/"
        },
        "id": "WKjMfJfBijIM",
        "outputId": "9bc3a3ef-d9dc-4955-cb8d-048f228f7ff4"
      },
      "execution_count": null,
      "outputs": [
        {
          "output_type": "stream",
          "name": "stdout",
          "text": [
            "0.7551539793269784\n"
          ]
        }
      ]
    },
    {
      "cell_type": "code",
      "source": [
        "torch.save(be_model, \"hin_coref_2\")"
      ],
      "metadata": {
        "id": "hzv2EqYCG4pk"
      },
      "execution_count": null,
      "outputs": []
    },
    {
      "cell_type": "code",
      "source": [
        "bmodel = torch.load(\"hin_coref_2\")\n",
        "bmodel.eval()"
      ],
      "metadata": {
        "colab": {
          "base_uri": "https://localhost:8080/"
        },
        "id": "LkpCTjchHaJS",
        "outputId": "71aa4763-88eb-45e8-943e-c88c1fbda9ca"
      },
      "execution_count": null,
      "outputs": [
        {
          "output_type": "execute_result",
          "data": {
            "text/plain": [
              "Net(\n",
              "  (fc1): Linear(in_features=768, out_features=32, bias=True)\n",
              "  (fc2): Linear(in_features=32, out_features=64, bias=True)\n",
              "  (fc3): Linear(in_features=64, out_features=1, bias=True)\n",
              ")"
            ]
          },
          "metadata": {},
          "execution_count": 28
        }
      ]
    },
    {
      "cell_type": "markdown",
      "source": [
        "### Issues: relies on only local information to make decisions\n",
        "next step: Mention ranking"
      ],
      "metadata": {
        "id": "eQwbNw68Hqji"
      }
    },
    {
      "cell_type": "markdown",
      "source": [
        "## lstm\n"
      ],
      "metadata": {
        "id": "d7nqo_UakE2l"
      }
    },
    {
      "cell_type": "code",
      "source": [
        ""
      ],
      "metadata": {
        "id": "tMgUjYd_kHIF"
      },
      "execution_count": null,
      "outputs": []
    }
  ]
}